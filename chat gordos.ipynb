{
 "cells": [
  {
   "cell_type": "code",
   "execution_count": 1,
   "id": "45349a3c-fc49-45d7-91fd-791ae6caa6a0",
   "metadata": {},
   "outputs": [],
   "source": [
    "import re\n",
    "import pandas as pd\n",
    "\n",
    "file = '/Users/Nextail/Downloads/Chat de WhatsApp con Goblinera - Socios.txt'\n",
    "with open(file, 'r') as f:\n",
    "    text = f.read()\n",
    "    text = re.sub(r'\\n(?![0-9])', ' ', text)\n",
    "    \n",
    "df =  pd.DataFrame(text.splitlines())\n"
   ]
  },
  {
   "cell_type": "code",
   "execution_count": 2,
   "id": "ae2ba7b5-9a2e-46da-b31e-e40ef436b1a0",
   "metadata": {},
   "outputs": [
    {
     "name": "stderr",
     "output_type": "stream",
     "text": [
      "/var/folders/rt/48k9fm297tz4gf5ghgkn6k2h0000gn/T/ipykernel_1781/3892452654.py:1: FutureWarning: In a future version of pandas all arguments of StringMethods.split except for the argument 'pat' will be keyword-only.\n",
      "  df = df[0].str.split('-', 1, expand=True)\n"
     ]
    }
   ],
   "source": [
    "df = df[0].str.split('-', 1, expand=True)"
   ]
  },
  {
   "cell_type": "code",
   "execution_count": 3,
   "id": "80bcc40c-f9f6-44fa-8927-6350e9207ac9",
   "metadata": {},
   "outputs": [],
   "source": [
    "df.columns = ['timestamp', 'c1']"
   ]
  },
  {
   "cell_type": "code",
   "execution_count": 4,
   "id": "d44ed024-a6c4-421c-a83c-1e00e79d424e",
   "metadata": {},
   "outputs": [],
   "source": [
    "df = df[df.c1.str.contains(':').fillna(False)]"
   ]
  },
  {
   "cell_type": "code",
   "execution_count": 5,
   "id": "9a9b36fa-a029-42ee-95e0-c27a8b20ebb0",
   "metadata": {},
   "outputs": [
    {
     "name": "stderr",
     "output_type": "stream",
     "text": [
      "/var/folders/rt/48k9fm297tz4gf5ghgkn6k2h0000gn/T/ipykernel_1781/1131208300.py:1: FutureWarning: In a future version of pandas all arguments of StringMethods.split except for the argument 'pat' will be keyword-only.\n",
      "  df[['user','msg']] = df['c1'].str.split(':', 1,expand=True)\n"
     ]
    }
   ],
   "source": [
    "df[['user','msg']] = df['c1'].str.split(':', 1,expand=True)"
   ]
  },
  {
   "cell_type": "code",
   "execution_count": 6,
   "id": "7f96a135-1a58-4bbc-9b71-71801168bf2f",
   "metadata": {},
   "outputs": [
    {
     "name": "stderr",
     "output_type": "stream",
     "text": [
      "/var/folders/rt/48k9fm297tz4gf5ghgkn6k2h0000gn/T/ipykernel_1781/2806092581.py:1: FutureWarning: In a future version of pandas all arguments of StringMethods.split except for the argument 'pat' will be keyword-only.\n",
      "  df[['day','time']] = df['timestamp'].str.split(' ', 1,expand=True)\n"
     ]
    }
   ],
   "source": [
    "df[['day','time']] = df['timestamp'].str.split(' ', 1,expand=True)"
   ]
  },
  {
   "cell_type": "code",
   "execution_count": 7,
   "id": "37fd0bbe-cc37-4cdf-881a-51de44add631",
   "metadata": {},
   "outputs": [
    {
     "data": {
      "text/html": [
       "<div>\n",
       "<style scoped>\n",
       "    .dataframe tbody tr th:only-of-type {\n",
       "        vertical-align: middle;\n",
       "    }\n",
       "\n",
       "    .dataframe tbody tr th {\n",
       "        vertical-align: top;\n",
       "    }\n",
       "\n",
       "    .dataframe thead th {\n",
       "        text-align: right;\n",
       "    }\n",
       "</style>\n",
       "<table border=\"1\" class=\"dataframe\">\n",
       "  <thead>\n",
       "    <tr style=\"text-align: right;\">\n",
       "      <th></th>\n",
       "      <th>timestamp</th>\n",
       "      <th>c1</th>\n",
       "      <th>user</th>\n",
       "      <th>msg</th>\n",
       "      <th>day</th>\n",
       "      <th>time</th>\n",
       "    </tr>\n",
       "  </thead>\n",
       "  <tbody>\n",
       "    <tr>\n",
       "      <th>6813</th>\n",
       "      <td>20/11/22 9:59</td>\n",
       "      <td>Lauri Goblinera: Hola ☺️☺️☺️ muchas gracias p...</td>\n",
       "      <td>Lauri Goblinera</td>\n",
       "      <td>Hola ☺️☺️☺️ muchas gracias por incluirme 😘😘</td>\n",
       "      <td>20/11/22</td>\n",
       "      <td>9:59</td>\n",
       "    </tr>\n",
       "    <tr>\n",
       "      <th>6815</th>\n",
       "      <td>20/11/22 10:03</td>\n",
       "      <td>Lauri Goblinera: ☺️☺️☺️</td>\n",
       "      <td>Lauri Goblinera</td>\n",
       "      <td>☺️☺️☺️</td>\n",
       "      <td>20/11/22</td>\n",
       "      <td>10:03</td>\n",
       "    </tr>\n",
       "    <tr>\n",
       "      <th>6819</th>\n",
       "      <td>20/11/22 10:06</td>\n",
       "      <td>Lauri Goblinera: Gracias 😘</td>\n",
       "      <td>Lauri Goblinera</td>\n",
       "      <td>Gracias 😘</td>\n",
       "      <td>20/11/22</td>\n",
       "      <td>10:06</td>\n",
       "    </tr>\n",
       "    <tr>\n",
       "      <th>6821</th>\n",
       "      <td>20/11/22 11:11</td>\n",
       "      <td>Lauri Goblinera: Gracias bonico ☺️</td>\n",
       "      <td>Lauri Goblinera</td>\n",
       "      <td>Gracias bonico ☺️</td>\n",
       "      <td>20/11/22</td>\n",
       "      <td>11:11</td>\n",
       "    </tr>\n",
       "    <tr>\n",
       "      <th>6823</th>\n",
       "      <td>20/11/22 11:20</td>\n",
       "      <td>Lauri Goblinera: ☺️☺️</td>\n",
       "      <td>Lauri Goblinera</td>\n",
       "      <td>☺️☺️</td>\n",
       "      <td>20/11/22</td>\n",
       "      <td>11:20</td>\n",
       "    </tr>\n",
       "    <tr>\n",
       "      <th>...</th>\n",
       "      <td>...</td>\n",
       "      <td>...</td>\n",
       "      <td>...</td>\n",
       "      <td>...</td>\n",
       "      <td>...</td>\n",
       "      <td>...</td>\n",
       "    </tr>\n",
       "    <tr>\n",
       "      <th>8998</th>\n",
       "      <td>9/12/22 10:03</td>\n",
       "      <td>Lauri Goblinera: Todas pa ti</td>\n",
       "      <td>Lauri Goblinera</td>\n",
       "      <td>Todas pa ti</td>\n",
       "      <td>9/12/22</td>\n",
       "      <td>10:03</td>\n",
       "    </tr>\n",
       "    <tr>\n",
       "      <th>9001</th>\n",
       "      <td>9/12/22 10:13</td>\n",
       "      <td>Lauri Goblinera: &lt;Multimedia omitido&gt;</td>\n",
       "      <td>Lauri Goblinera</td>\n",
       "      <td>&lt;Multimedia omitido&gt;</td>\n",
       "      <td>9/12/22</td>\n",
       "      <td>10:13</td>\n",
       "    </tr>\n",
       "    <tr>\n",
       "      <th>9003</th>\n",
       "      <td>9/12/22 10:14</td>\n",
       "      <td>Lauri Goblinera: Ostias avisadme que a mi me ...</td>\n",
       "      <td>Lauri Goblinera</td>\n",
       "      <td>Ostias avisadme que a mi me da un mal con el ...</td>\n",
       "      <td>9/12/22</td>\n",
       "      <td>10:14</td>\n",
       "    </tr>\n",
       "    <tr>\n",
       "      <th>9005</th>\n",
       "      <td>9/12/22 10:14</td>\n",
       "      <td>Lauri Goblinera: Ni de coña, yo soy una buena...</td>\n",
       "      <td>Lauri Goblinera</td>\n",
       "      <td>Ni de coña, yo soy una buena mandada! El seño...</td>\n",
       "      <td>9/12/22</td>\n",
       "      <td>10:14</td>\n",
       "    </tr>\n",
       "    <tr>\n",
       "      <th>9007</th>\n",
       "      <td>9/12/22 10:15</td>\n",
       "      <td>Lauri Goblinera: Acabáramos 😂 deja deja</td>\n",
       "      <td>Lauri Goblinera</td>\n",
       "      <td>Acabáramos 😂 deja deja</td>\n",
       "      <td>9/12/22</td>\n",
       "      <td>10:15</td>\n",
       "    </tr>\n",
       "  </tbody>\n",
       "</table>\n",
       "<p>330 rows × 6 columns</p>\n",
       "</div>"
      ],
      "text/plain": [
       "            timestamp                                                 c1  \\\n",
       "6813   20/11/22 9:59    Lauri Goblinera: Hola ☺️☺️☺️ muchas gracias p...   \n",
       "6815  20/11/22 10:03                             Lauri Goblinera: ☺️☺️☺️   \n",
       "6819  20/11/22 10:06                          Lauri Goblinera: Gracias 😘   \n",
       "6821  20/11/22 11:11                  Lauri Goblinera: Gracias bonico ☺️   \n",
       "6823  20/11/22 11:20                               Lauri Goblinera: ☺️☺️   \n",
       "...               ...                                                ...   \n",
       "8998   9/12/22 10:03                        Lauri Goblinera: Todas pa ti   \n",
       "9001   9/12/22 10:13               Lauri Goblinera: <Multimedia omitido>   \n",
       "9003   9/12/22 10:14    Lauri Goblinera: Ostias avisadme que a mi me ...   \n",
       "9005   9/12/22 10:14    Lauri Goblinera: Ni de coña, yo soy una buena...   \n",
       "9007   9/12/22 10:15             Lauri Goblinera: Acabáramos 😂 deja deja   \n",
       "\n",
       "                  user                                                msg  \\\n",
       "6813   Lauri Goblinera        Hola ☺️☺️☺️ muchas gracias por incluirme 😘😘   \n",
       "6815   Lauri Goblinera                                             ☺️☺️☺️   \n",
       "6819   Lauri Goblinera                                          Gracias 😘   \n",
       "6821   Lauri Goblinera                                  Gracias bonico ☺️   \n",
       "6823   Lauri Goblinera                                               ☺️☺️   \n",
       "...                ...                                                ...   \n",
       "8998   Lauri Goblinera                                        Todas pa ti   \n",
       "9001   Lauri Goblinera                               <Multimedia omitido>   \n",
       "9003   Lauri Goblinera   Ostias avisadme que a mi me da un mal con el ...   \n",
       "9005   Lauri Goblinera   Ni de coña, yo soy una buena mandada! El seño...   \n",
       "9007   Lauri Goblinera                             Acabáramos 😂 deja deja   \n",
       "\n",
       "           day    time  \n",
       "6813  20/11/22   9:59   \n",
       "6815  20/11/22  10:03   \n",
       "6819  20/11/22  10:06   \n",
       "6821  20/11/22  11:11   \n",
       "6823  20/11/22  11:20   \n",
       "...        ...     ...  \n",
       "8998   9/12/22  10:03   \n",
       "9001   9/12/22  10:13   \n",
       "9003   9/12/22  10:14   \n",
       "9005   9/12/22  10:14   \n",
       "9007   9/12/22  10:15   \n",
       "\n",
       "[330 rows x 6 columns]"
      ]
     },
     "execution_count": 7,
     "metadata": {},
     "output_type": "execute_result"
    }
   ],
   "source": [
    "df[df.user.str.contains('Lauri')]"
   ]
  },
  {
   "cell_type": "code",
   "execution_count": 8,
   "id": "5c8de7cc-7ffa-44ed-bf72-c6e3b42ea02b",
   "metadata": {},
   "outputs": [],
   "source": [
    "df['day'] = pd.to_datetime(df['day'], format='%d/%m/%y').dt.date"
   ]
  },
  {
   "cell_type": "code",
   "execution_count": 9,
   "id": "f102aa12-e310-4d88-ac68-b83c8ed4d6e0",
   "metadata": {},
   "outputs": [
    {
     "name": "stderr",
     "output_type": "stream",
     "text": [
      "/var/folders/rt/48k9fm297tz4gf5ghgkn6k2h0000gn/T/ipykernel_1781/2156840524.py:1: FutureWarning: In a future version of pandas all arguments of StringMethods.split except for the argument 'pat' will be keyword-only.\n",
      "  df[['hour','minute']] = df['time'].str.split(':', 1,expand=True)\n"
     ]
    }
   ],
   "source": [
    "df[['hour','minute']] = df['time'].str.split(':', 1,expand=True)"
   ]
  },
  {
   "cell_type": "code",
   "execution_count": 10,
   "id": "2787171d-b3ab-421a-b9fb-cc7b243444c1",
   "metadata": {},
   "outputs": [],
   "source": [
    "df.timestamp = pd.to_datetime(df.day) + pd.to_timedelta(df.hour.astype(int), unit='h') + pd.to_timedelta(df.minute.astype(int), unit='m')"
   ]
  },
  {
   "cell_type": "code",
   "execution_count": 11,
   "id": "37be1f88-91dc-4ccd-9315-d13eae072ef9",
   "metadata": {},
   "outputs": [],
   "source": [
    "df.to_csv('/Users/Nextail/Downloads/formated.csv')"
   ]
  },
  {
   "cell_type": "code",
   "execution_count": null,
   "id": "f35404cf-4b83-44f5-989c-ce28121221bd",
   "metadata": {},
   "outputs": [],
   "source": []
  }
 ],
 "metadata": {
  "kernelspec": {
   "display_name": "Python 3 (ipykernel)",
   "language": "python",
   "name": "python3"
  },
  "language_info": {
   "codemirror_mode": {
    "name": "ipython",
    "version": 3
   },
   "file_extension": ".py",
   "mimetype": "text/x-python",
   "name": "python",
   "nbconvert_exporter": "python",
   "pygments_lexer": "ipython3",
   "version": "3.10.8"
  }
 },
 "nbformat": 4,
 "nbformat_minor": 5
}
