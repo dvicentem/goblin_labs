{
 "cells": [
  {
   "cell_type": "code",
   "execution_count": 1,
   "id": "397e45bf-4584-4efe-bfba-76b4edad8b0a",
   "metadata": {},
   "outputs": [
    {
     "ename": "ModuleNotFoundError",
     "evalue": "No module named 'icalendar'",
     "output_type": "error",
     "traceback": [
      "\u001b[0;31m---------------------------------------------------------------------------\u001b[0m",
      "\u001b[0;31mModuleNotFoundError\u001b[0m                       Traceback (most recent call last)",
      "Cell \u001b[0;32mIn[1], line 2\u001b[0m\n\u001b[1;32m      1\u001b[0m \u001b[38;5;28;01mimport\u001b[39;00m \u001b[38;5;21;01mpandas\u001b[39;00m \u001b[38;5;28;01mas\u001b[39;00m \u001b[38;5;21;01mpd\u001b[39;00m\n\u001b[0;32m----> 2\u001b[0m \u001b[38;5;28;01mfrom\u001b[39;00m \u001b[38;5;21;01micalendar\u001b[39;00m \u001b[38;5;28;01mimport\u001b[39;00m Calendar, Event\n\u001b[1;32m      3\u001b[0m \u001b[38;5;28;01mfrom\u001b[39;00m \u001b[38;5;21;01mdatetime\u001b[39;00m \u001b[38;5;28;01mimport\u001b[39;00m datetime\n\u001b[1;32m      4\u001b[0m \u001b[38;5;28;01mfrom\u001b[39;00m \u001b[38;5;21;01mpytz\u001b[39;00m \u001b[38;5;28;01mimport\u001b[39;00m UTC \u001b[38;5;66;03m# timezone\u001b[39;00m\n",
      "\u001b[0;31mModuleNotFoundError\u001b[0m: No module named 'icalendar'"
     ]
    }
   ],
   "source": [
    "import pandas as pd\n",
    "from icalendar import Calendar, Event\n",
    "from datetime import datetime\n",
    "from pytz import UTC # timezone\n",
    "import requests"
   ]
  },
  {
   "cell_type": "code",
   "execution_count": null,
   "id": "c93319cf-8a1c-4fdd-8e9f-2c7d55f61882",
   "metadata": {},
   "outputs": [],
   "source": [
    "target_url = 'https://calendar.google.com/calendar/ical/actividades%40goblinera.net/public/basic.ics'\n",
    "\n",
    "response = requests.get(target_url)\n",
    "data = response.text\n",
    "\n",
    "goblincal = Calendar.from_ical(data)"
   ]
  },
  {
   "cell_type": "markdown",
   "id": "b65fec49",
   "metadata": {},
   "source": []
  },
  {
   "cell_type": "code",
   "execution_count": null,
   "id": "78db1ec2-0707-42b2-aa49-4b27757e693e",
   "metadata": {},
   "outputs": [],
   "source": [
    "goblieventos = pd.DataFrame(columns=['Event','Start','End','Organizer', 'Created', 'Last Modified'],)\n",
    "for component in goblincal.walk():\n",
    "    if component.name == \"VEVENT\":\n",
    "        event = component.get('SUMMARY')\n",
    "        start = component.get('DTSTART')\n",
    "        end = component.get('DTEND')\n",
    "        organizer = component.get('ORGANIZER')\n",
    "        if organizer:\n",
    "            organizer = organizer.split(':')[1]\n",
    "        created = component.get('CREATED')\n",
    "        lastmodified = component.get('LAST-MODIFIED')\n",
    "        goblieventos.loc[len(goblieventos)] = [event, start.dt, end.dt, organizer, created.dt, lastmodified.dt]\n",
    "        \n",
    "goblieventos.sort_values(by='Start', ascending=False).head()"
   ]
  },
  {
   "cell_type": "code",
   "execution_count": null,
   "id": "859cda4f-ad27-45ee-baa0-99444a19778a",
   "metadata": {},
   "outputs": [],
   "source": []
  }
 ],
 "metadata": {
  "kernelspec": {
   "display_name": "Python 3 (ipykernel)",
   "language": "python",
   "name": "python3"
  },
  "language_info": {
   "codemirror_mode": {
    "name": "ipython",
    "version": 3
   },
   "file_extension": ".py",
   "mimetype": "text/x-python",
   "name": "python",
   "nbconvert_exporter": "python",
   "pygments_lexer": "ipython3",
   "version": "3.10.9"
  }
 },
 "nbformat": 4,
 "nbformat_minor": 5
}
