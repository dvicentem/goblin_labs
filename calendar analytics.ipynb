{
 "cells": [
  {
   "cell_type": "code",
   "execution_count": 1,
   "id": "397e45bf-4584-4efe-bfba-76b4edad8b0a",
   "metadata": {},
   "outputs": [],
   "source": [
    "import pandas as pd\n",
    "from icalendar import Calendar, Event\n",
    "from datetime import datetime\n",
    "from pytz import UTC # timezone\n",
    "import requests"
   ]
  },
  {
   "cell_type": "code",
   "execution_count": 2,
   "id": "c93319cf-8a1c-4fdd-8e9f-2c7d55f61882",
   "metadata": {},
   "outputs": [],
   "source": [
    "target_url = 'https://calendar.google.com/calendar/ical/actividades%40goblinera.net/public/basic.ics'\n",
    "\n",
    "response = requests.get(target_url)\n",
    "data = response.text\n",
    "\n",
    "goblincal = Calendar.from_ical(data)"
   ]
  },
  {
   "cell_type": "code",
   "execution_count": 3,
   "id": "78db1ec2-0707-42b2-aa49-4b27757e693e",
   "metadata": {},
   "outputs": [
    {
     "name": "stderr",
     "output_type": "stream",
     "text": [
      "/var/folders/rt/48k9fm297tz4gf5ghgkn6k2h0000gn/T/ipykernel_30670/3086804839.py:12: FutureWarning: Comparison of Timestamp with datetime.date is deprecated in order to match the standard library behavior. In a future version these will be considered non-comparable. Use 'ts == pd.Timestamp(date)' or 'ts.date() == date' instead.\n",
      "  goblieventos.sort_values(by='Start', ascending=False).head()\n"
     ]
    },
    {
     "data": {
      "text/html": [
       "<div>\n",
       "<style scoped>\n",
       "    .dataframe tbody tr th:only-of-type {\n",
       "        vertical-align: middle;\n",
       "    }\n",
       "\n",
       "    .dataframe tbody tr th {\n",
       "        vertical-align: top;\n",
       "    }\n",
       "\n",
       "    .dataframe thead th {\n",
       "        text-align: right;\n",
       "    }\n",
       "</style>\n",
       "<table border=\"1\" class=\"dataframe\">\n",
       "  <thead>\n",
       "    <tr style=\"text-align: right;\">\n",
       "      <th></th>\n",
       "      <th>Event</th>\n",
       "      <th>Start</th>\n",
       "      <th>End</th>\n",
       "      <th>Organizer</th>\n",
       "    </tr>\n",
       "  </thead>\n",
       "  <tbody>\n",
       "    <tr>\n",
       "      <th>315</th>\n",
       "      <td>(S2) Soulbound [Óscar:3]</td>\n",
       "      <td>2023-03-31 13:00:00+00:00</td>\n",
       "      <td>2023-03-31 21:30:00+00:00</td>\n",
       "      <td>oscar.marquez.quintero@gmail.com</td>\n",
       "    </tr>\n",
       "    <tr>\n",
       "      <th>0</th>\n",
       "      <td>(S3, S4 y S2) REV - Vampiro rol en vivo[Merche...</td>\n",
       "      <td>2023-02-25 15:00:00+00:00</td>\n",
       "      <td>2023-02-25 21:30:00+00:00</td>\n",
       "      <td>marian3333@gmail.com</td>\n",
       "    </tr>\n",
       "    <tr>\n",
       "      <th>4</th>\n",
       "      <td>(SP) JdC - Torneo V5 [Gonzalo:5:0]</td>\n",
       "      <td>2023-02-25 15:00:00+00:00</td>\n",
       "      <td>2023-02-25 17:30:00+00:00</td>\n",
       "      <td>gonzaloheyoka@gmail.com</td>\n",
       "    </tr>\n",
       "    <tr>\n",
       "      <th>5</th>\n",
       "      <td>(S3 y S4) JdC - Torneo V5 [Gonzalo:15:10]</td>\n",
       "      <td>2023-02-25 08:00:00+00:00</td>\n",
       "      <td>2023-02-25 13:30:00+00:00</td>\n",
       "      <td>gonzaloheyoka@gmail.com</td>\n",
       "    </tr>\n",
       "    <tr>\n",
       "      <th>316</th>\n",
       "      <td>(S2) Soulbound [Óscar:3]</td>\n",
       "      <td>2023-02-24 14:00:00+00:00</td>\n",
       "      <td>2023-02-24 22:30:00+00:00</td>\n",
       "      <td>oscar.marquez.quintero@gmail.com</td>\n",
       "    </tr>\n",
       "  </tbody>\n",
       "</table>\n",
       "</div>"
      ],
      "text/plain": [
       "                                                 Event  \\\n",
       "315                           (S2) Soulbound [Óscar:3]   \n",
       "0    (S3, S4 y S2) REV - Vampiro rol en vivo[Merche...   \n",
       "4                   (SP) JdC - Torneo V5 [Gonzalo:5:0]   \n",
       "5            (S3 y S4) JdC - Torneo V5 [Gonzalo:15:10]   \n",
       "316                           (S2) Soulbound [Óscar:3]   \n",
       "\n",
       "                         Start                        End  \\\n",
       "315  2023-03-31 13:00:00+00:00  2023-03-31 21:30:00+00:00   \n",
       "0    2023-02-25 15:00:00+00:00  2023-02-25 21:30:00+00:00   \n",
       "4    2023-02-25 15:00:00+00:00  2023-02-25 17:30:00+00:00   \n",
       "5    2023-02-25 08:00:00+00:00  2023-02-25 13:30:00+00:00   \n",
       "316  2023-02-24 14:00:00+00:00  2023-02-24 22:30:00+00:00   \n",
       "\n",
       "                            Organizer  \n",
       "315  oscar.marquez.quintero@gmail.com  \n",
       "0                marian3333@gmail.com  \n",
       "4             gonzaloheyoka@gmail.com  \n",
       "5             gonzaloheyoka@gmail.com  \n",
       "316  oscar.marquez.quintero@gmail.com  "
      ]
     },
     "execution_count": 3,
     "metadata": {},
     "output_type": "execute_result"
    }
   ],
   "source": [
    "goblieventos = pd.DataFrame(columns=['Event','Start','End','Organizer',])\n",
    "for component in goblincal.walk():\n",
    "    if component.name == \"VEVENT\":\n",
    "        event = component.get('SUMMARY')\n",
    "        start = component.get('DTSTART')\n",
    "        end = component.get('DTEND')\n",
    "        organizer = component.get('ORGANIZER')\n",
    "        if organizer:\n",
    "            organizer = organizer.split(':')[1]\n",
    "        goblieventos.loc[len(goblieventos)] = [event, start.dt, end.dt, organizer]\n",
    "        \n",
    "goblieventos.sort_values(by='Start', ascending=False).head()"
   ]
  },
  {
   "cell_type": "code",
   "execution_count": null,
   "id": "859cda4f-ad27-45ee-baa0-99444a19778a",
   "metadata": {},
   "outputs": [],
   "source": []
  }
 ],
 "metadata": {
  "kernelspec": {
   "display_name": "goblin_venv",
   "language": "python",
   "name": "goblin_venv"
  },
  "language_info": {
   "codemirror_mode": {
    "name": "ipython",
    "version": 3
   },
   "file_extension": ".py",
   "mimetype": "text/x-python",
   "name": "python",
   "nbconvert_exporter": "python",
   "pygments_lexer": "ipython3",
   "version": "3.10.8"
  }
 },
 "nbformat": 4,
 "nbformat_minor": 5
}
